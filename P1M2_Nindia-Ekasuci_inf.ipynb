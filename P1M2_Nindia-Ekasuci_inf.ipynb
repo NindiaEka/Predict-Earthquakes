{
 "cells": [
  {
   "cell_type": "code",
   "execution_count": 32,
   "id": "3d580452",
   "metadata": {},
   "outputs": [],
   "source": [
    "import pandas as pd\n",
    "import pickle"
   ]
  },
  {
   "cell_type": "code",
   "execution_count": 33,
   "id": "03fe8935",
   "metadata": {},
   "outputs": [],
   "source": [
    "with open('model_best_tunning.pkl', 'rb') as file_1:\n",
    "  best_model_tunning = pickle.load(file_1)"
   ]
  },
  {
   "cell_type": "code",
   "execution_count": 34,
   "id": "2c00be5d",
   "metadata": {},
   "outputs": [
    {
     "data": {
      "text/html": [
       "<div>\n",
       "<style scoped>\n",
       "    .dataframe tbody tr th:only-of-type {\n",
       "        vertical-align: middle;\n",
       "    }\n",
       "\n",
       "    .dataframe tbody tr th {\n",
       "        vertical-align: top;\n",
       "    }\n",
       "\n",
       "    .dataframe thead th {\n",
       "        text-align: right;\n",
       "    }\n",
       "</style>\n",
       "<table border=\"1\" class=\"dataframe\">\n",
       "  <thead>\n",
       "    <tr style=\"text-align: right;\">\n",
       "      <th></th>\n",
       "      <th>time</th>\n",
       "      <th>latitude</th>\n",
       "      <th>longitude</th>\n",
       "      <th>depth</th>\n",
       "      <th>magType</th>\n",
       "      <th>nst</th>\n",
       "      <th>gap</th>\n",
       "      <th>dmin</th>\n",
       "      <th>rms</th>\n",
       "      <th>horizontalError</th>\n",
       "      <th>...</th>\n",
       "      <th>magError</th>\n",
       "      <th>magNst</th>\n",
       "      <th>status</th>\n",
       "      <th>locationSource</th>\n",
       "      <th>magSource</th>\n",
       "      <th>date</th>\n",
       "      <th>type</th>\n",
       "      <th>location</th>\n",
       "      <th>net</th>\n",
       "      <th>id</th>\n",
       "    </tr>\n",
       "  </thead>\n",
       "  <tbody>\n",
       "    <tr>\n",
       "      <th>0</th>\n",
       "      <td>2025-08-09</td>\n",
       "      <td>-8.65</td>\n",
       "      <td>115.22</td>\n",
       "      <td>10.2</td>\n",
       "      <td>mb</td>\n",
       "      <td>45</td>\n",
       "      <td>65</td>\n",
       "      <td>0.35</td>\n",
       "      <td>0.82</td>\n",
       "      <td>0.7</td>\n",
       "      <td>...</td>\n",
       "      <td>0.05</td>\n",
       "      <td>40</td>\n",
       "      <td>reviewed</td>\n",
       "      <td>us</td>\n",
       "      <td>us</td>\n",
       "      <td>14:23:00</td>\n",
       "      <td>earthquake</td>\n",
       "      <td>Denpasar</td>\n",
       "      <td>us</td>\n",
       "      <td>us1234567</td>\n",
       "    </tr>\n",
       "    <tr>\n",
       "      <th>1</th>\n",
       "      <td>2025-08-13</td>\n",
       "      <td>-0.89</td>\n",
       "      <td>119.87</td>\n",
       "      <td>35.4</td>\n",
       "      <td>mwr</td>\n",
       "      <td>50</td>\n",
       "      <td>50</td>\n",
       "      <td>0.20</td>\n",
       "      <td>0.65</td>\n",
       "      <td>0.6</td>\n",
       "      <td>...</td>\n",
       "      <td>0.07</td>\n",
       "      <td>42</td>\n",
       "      <td>reviewed</td>\n",
       "      <td>us</td>\n",
       "      <td>us</td>\n",
       "      <td>22:25:00</td>\n",
       "      <td>earthquake</td>\n",
       "      <td>Palu</td>\n",
       "      <td>us</td>\n",
       "      <td>us1234568</td>\n",
       "    </tr>\n",
       "  </tbody>\n",
       "</table>\n",
       "<p>2 rows × 21 columns</p>\n",
       "</div>"
      ],
      "text/plain": [
       "         time  latitude  longitude  depth magType  nst  gap  dmin   rms  \\\n",
       "0  2025-08-09     -8.65     115.22   10.2      mb   45   65  0.35  0.82   \n",
       "1  2025-08-13     -0.89     119.87   35.4     mwr   50   50  0.20  0.65   \n",
       "\n",
       "   horizontalError  ...  magError  magNst    status locationSource magSource  \\\n",
       "0              0.7  ...      0.05      40  reviewed             us        us   \n",
       "1              0.6  ...      0.07      42  reviewed             us        us   \n",
       "\n",
       "       date        type  location net         id  \n",
       "0  14:23:00  earthquake  Denpasar  us  us1234567  \n",
       "1  22:25:00  earthquake      Palu  us  us1234568  \n",
       "\n",
       "[2 rows x 21 columns]"
      ]
     },
     "execution_count": 34,
     "metadata": {},
     "output_type": "execute_result"
    }
   ],
   "source": [
    "inference_data = {\n",
    "    \"time\": [\"2025-08-09\", \"2025-08-13\"],\n",
    "    \"latitude\": [-8.65, -0.89],\n",
    "    \"longitude\": [115.22, 119.87],\n",
    "    \"depth\": [10.2, 35.4],\n",
    "    \"magType\": [\"mb\", \"mwr\"],\n",
    "    \"nst\": [45, 50],\n",
    "    \"gap\": [65, 50],\n",
    "    \"dmin\": [0.35, 0.20],\n",
    "    \"rms\": [0.82, 0.65],\n",
    "    \"horizontalError\": [0.7, 0.6],\n",
    "    \"depthError\": [0.5, 0.4],\n",
    "    \"magError\": [0.05, 0.07],\n",
    "    \"magNst\": [40, 42],\n",
    "    \"status\": [\"reviewed\", \"reviewed\"],\n",
    "    \"locationSource\": [\"us\", \"us\"],\n",
    "    \"magSource\": [\"us\", \"us\"],\n",
    "    \"date\": [\"14:23:00\", \"22:25:00\"],\n",
    "    \"type\": [\"earthquake\", \"earthquake\"],\n",
    "    \"location\": [\"Denpasar\", \"Palu\"],\n",
    "    \"net\": [\"us\", \"us\"],\n",
    "    \"id\": [\"us1234567\", \"us1234568\"],\n",
    "    }\n",
    "\n",
    "df_inference = pd.DataFrame(inference_data)\n",
    "df_inference"
   ]
  },
  {
   "cell_type": "code",
   "execution_count": 35,
   "id": "33b2b293",
   "metadata": {},
   "outputs": [
    {
     "data": {
      "text/plain": [
       "Index(['time', 'latitude', 'longitude', 'depth', 'magType', 'nst', 'gap',\n",
       "       'dmin', 'rms', 'horizontalError', 'depthError', 'magError', 'magNst',\n",
       "       'status', 'locationSource', 'magSource', 'date', 'type', 'location',\n",
       "       'net', 'id'],\n",
       "      dtype='object')"
      ]
     },
     "execution_count": 35,
     "metadata": {},
     "output_type": "execute_result"
    }
   ],
   "source": [
    "df_inference.columns.unique()"
   ]
  },
  {
   "cell_type": "code",
   "execution_count": 36,
   "id": "bfd204f6",
   "metadata": {},
   "outputs": [
    {
     "name": "stdout",
     "output_type": "stream",
     "text": [
      "[4.82907037 5.21758677]\n"
     ]
    }
   ],
   "source": [
    "# Prediksi langsung\n",
    "y_pred = best_model_tunning.predict(df_inference)\n",
    "print(y_pred)"
   ]
  },
  {
   "cell_type": "markdown",
   "id": "f1e1c38b",
   "metadata": {},
   "source": [
    "Jadi, data 1 memprediksi gempa sebesar 4.8 SR dan data 2 memprediksi gempa sebesar 5.2 SR."
   ]
  }
 ],
 "metadata": {
  "kernelspec": {
   "display_name": "Python 3",
   "language": "python",
   "name": "python3"
  },
  "language_info": {
   "codemirror_mode": {
    "name": "ipython",
    "version": 3
   },
   "file_extension": ".py",
   "mimetype": "text/x-python",
   "name": "python",
   "nbconvert_exporter": "python",
   "pygments_lexer": "ipython3",
   "version": "3.9.23"
  }
 },
 "nbformat": 4,
 "nbformat_minor": 5
}
